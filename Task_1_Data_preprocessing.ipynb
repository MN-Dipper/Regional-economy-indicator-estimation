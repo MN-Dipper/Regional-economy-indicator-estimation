{
 "cells": [
  {
   "cell_type": "code",
   "execution_count": 1,
   "id": "ad775d4c-647e-4bec-8e4e-e3e230a65af2",
   "metadata": {},
   "outputs": [],
   "source": [
    "import pandas as pd"
   ]
  },
  {
   "cell_type": "code",
   "execution_count": 2,
   "id": "e8164225-1981-4ff6-b8c7-4882f4d62606",
   "metadata": {},
   "outputs": [],
   "source": [
    "df1=pd.read_csv('new_order.csv')"
   ]
  },
  {
   "cell_type": "code",
   "execution_count": 3,
   "id": "a557bc35-3588-44ac-b4cf-a5f6f940d3bc",
   "metadata": {},
   "outputs": [],
   "source": [
    "df1=df1[df1['sale_ord_dt']>'2019-12-31']\n",
    "df1=df1[df1['sale_ord_dt']<'2024-01-01']"
   ]
  },
  {
   "cell_type": "code",
   "execution_count": 4,
   "id": "9ec76c1d-18fc-46ca-afbf-8ec6121e7a51",
   "metadata": {},
   "outputs": [],
   "source": [
    "df1=df1[df1['rev_addr_province_id']!='台湾']\n",
    "df1=df1[df1['rev_addr_province_id']!='港澳']"
   ]
  },
  {
   "cell_type": "code",
   "execution_count": 5,
   "id": "3c959af0-3fcb-4f40-abc2-c5264182477b",
   "metadata": {},
   "outputs": [
    {
     "data": {
      "text/html": [
       "<div>\n",
       "<style scoped>\n",
       "    .dataframe tbody tr th:only-of-type {\n",
       "        vertical-align: middle;\n",
       "    }\n",
       "\n",
       "    .dataframe tbody tr th {\n",
       "        vertical-align: top;\n",
       "    }\n",
       "\n",
       "    .dataframe thead th {\n",
       "        text-align: right;\n",
       "    }\n",
       "</style>\n",
       "<table border=\"1\" class=\"dataframe\">\n",
       "  <thead>\n",
       "    <tr style=\"text-align: right;\">\n",
       "      <th></th>\n",
       "      <th>sale_ord_dt</th>\n",
       "      <th>rev_addr_province_id</th>\n",
       "      <th>rev_addr_city_id</th>\n",
       "      <th>item_first_cate_name</th>\n",
       "      <th>year</th>\n",
       "      <th>month</th>\n",
       "      <th>season</th>\n",
       "      <th>nums</th>\n",
       "    </tr>\n",
       "  </thead>\n",
       "  <tbody>\n",
       "    <tr>\n",
       "      <th>7668203</th>\n",
       "      <td>2020-01-01</td>\n",
       "      <td>上海</td>\n",
       "      <td>嘉定区</td>\n",
       "      <td>个人护理</td>\n",
       "      <td>2020</td>\n",
       "      <td>1</td>\n",
       "      <td>1</td>\n",
       "      <td>2918</td>\n",
       "    </tr>\n",
       "    <tr>\n",
       "      <th>7668204</th>\n",
       "      <td>2020-01-01</td>\n",
       "      <td>上海</td>\n",
       "      <td>嘉定区</td>\n",
       "      <td>个护美妆</td>\n",
       "      <td>2020</td>\n",
       "      <td>1</td>\n",
       "      <td>1</td>\n",
       "      <td>37</td>\n",
       "    </tr>\n",
       "    <tr>\n",
       "      <th>7668205</th>\n",
       "      <td>2020-01-01</td>\n",
       "      <td>上海</td>\n",
       "      <td>嘉定区</td>\n",
       "      <td>二手商品</td>\n",
       "      <td>2020</td>\n",
       "      <td>1</td>\n",
       "      <td>1</td>\n",
       "      <td>91</td>\n",
       "    </tr>\n",
       "    <tr>\n",
       "      <th>7668206</th>\n",
       "      <td>2020-01-01</td>\n",
       "      <td>上海</td>\n",
       "      <td>嘉定区</td>\n",
       "      <td>京东服务</td>\n",
       "      <td>2020</td>\n",
       "      <td>1</td>\n",
       "      <td>1</td>\n",
       "      <td>9</td>\n",
       "    </tr>\n",
       "    <tr>\n",
       "      <th>7668207</th>\n",
       "      <td>2020-01-01</td>\n",
       "      <td>上海</td>\n",
       "      <td>嘉定区</td>\n",
       "      <td>休闲零食</td>\n",
       "      <td>2020</td>\n",
       "      <td>1</td>\n",
       "      <td>1</td>\n",
       "      <td>48</td>\n",
       "    </tr>\n",
       "    <tr>\n",
       "      <th>...</th>\n",
       "      <td>...</td>\n",
       "      <td>...</td>\n",
       "      <td>...</td>\n",
       "      <td>...</td>\n",
       "      <td>...</td>\n",
       "      <td>...</td>\n",
       "      <td>...</td>\n",
       "      <td>...</td>\n",
       "    </tr>\n",
       "    <tr>\n",
       "      <th>30648961</th>\n",
       "      <td>2022-12-31</td>\n",
       "      <td>黑龙江</td>\n",
       "      <td>齐齐哈尔市</td>\n",
       "      <td>院端医疗器械</td>\n",
       "      <td>2022</td>\n",
       "      <td>12</td>\n",
       "      <td>4</td>\n",
       "      <td>3</td>\n",
       "    </tr>\n",
       "    <tr>\n",
       "      <th>30648962</th>\n",
       "      <td>2022-12-31</td>\n",
       "      <td>黑龙江</td>\n",
       "      <td>齐齐哈尔市</td>\n",
       "      <td>鞋包服饰/百货</td>\n",
       "      <td>2022</td>\n",
       "      <td>12</td>\n",
       "      <td>4</td>\n",
       "      <td>4</td>\n",
       "    </tr>\n",
       "    <tr>\n",
       "      <th>30648963</th>\n",
       "      <td>2022-12-31</td>\n",
       "      <td>黑龙江</td>\n",
       "      <td>齐齐哈尔市</td>\n",
       "      <td>鞋靴</td>\n",
       "      <td>2022</td>\n",
       "      <td>12</td>\n",
       "      <td>4</td>\n",
       "      <td>98</td>\n",
       "    </tr>\n",
       "    <tr>\n",
       "      <th>30648964</th>\n",
       "      <td>2022-12-31</td>\n",
       "      <td>黑龙江</td>\n",
       "      <td>齐齐哈尔市</td>\n",
       "      <td>食品饮料</td>\n",
       "      <td>2022</td>\n",
       "      <td>12</td>\n",
       "      <td>4</td>\n",
       "      <td>4161</td>\n",
       "    </tr>\n",
       "    <tr>\n",
       "      <th>30648965</th>\n",
       "      <td>2022-12-31</td>\n",
       "      <td>黑龙江</td>\n",
       "      <td>齐齐哈尔市</td>\n",
       "      <td>鲜花/奢侈品</td>\n",
       "      <td>2022</td>\n",
       "      <td>12</td>\n",
       "      <td>4</td>\n",
       "      <td>13</td>\n",
       "    </tr>\n",
       "  </tbody>\n",
       "</table>\n",
       "<p>22924086 rows × 8 columns</p>\n",
       "</div>"
      ],
      "text/plain": [
       "         sale_ord_dt rev_addr_province_id rev_addr_city_id  \\\n",
       "7668203   2020-01-01                   上海              嘉定区   \n",
       "7668204   2020-01-01                   上海              嘉定区   \n",
       "7668205   2020-01-01                   上海              嘉定区   \n",
       "7668206   2020-01-01                   上海              嘉定区   \n",
       "7668207   2020-01-01                   上海              嘉定区   \n",
       "...              ...                  ...              ...   \n",
       "30648961  2022-12-31                  黑龙江            齐齐哈尔市   \n",
       "30648962  2022-12-31                  黑龙江            齐齐哈尔市   \n",
       "30648963  2022-12-31                  黑龙江            齐齐哈尔市   \n",
       "30648964  2022-12-31                  黑龙江            齐齐哈尔市   \n",
       "30648965  2022-12-31                  黑龙江            齐齐哈尔市   \n",
       "\n",
       "         item_first_cate_name  year  month  season  nums  \n",
       "7668203                  个人护理  2020      1       1  2918  \n",
       "7668204                  个护美妆  2020      1       1    37  \n",
       "7668205                  二手商品  2020      1       1    91  \n",
       "7668206                  京东服务  2020      1       1     9  \n",
       "7668207                  休闲零食  2020      1       1    48  \n",
       "...                       ...   ...    ...     ...   ...  \n",
       "30648961               院端医疗器械  2022     12       4     3  \n",
       "30648962              鞋包服饰/百货  2022     12       4     4  \n",
       "30648963                   鞋靴  2022     12       4    98  \n",
       "30648964                 食品饮料  2022     12       4  4161  \n",
       "30648965               鲜花/奢侈品  2022     12       4    13  \n",
       "\n",
       "[22924086 rows x 8 columns]"
      ]
     },
     "execution_count": 5,
     "metadata": {},
     "output_type": "execute_result"
    }
   ],
   "source": [
    "df1 = df1[df1['year'] != 2023]\n",
    "df1"
   ]
  },
  {
   "cell_type": "markdown",
   "id": "7d128458-e45d-484d-a1ec-67c65561d0b7",
   "metadata": {},
   "source": [
    "<h1>Category filtering</h1>"
   ]
  },
  {
   "cell_type": "code",
   "execution_count": 7,
   "id": "caa815b1-9254-4ed0-9bef-93d6bd6ed900",
   "metadata": {},
   "outputs": [],
   "source": [
    "l1=[]\n",
    "l2=[]\n",
    "for _idx, _group in df1.groupby('item_first_cate_name'):\n",
    "    l1.append(_idx)\n",
    "    l2.append(sum(_group['nums']))\n",
    "temp_re=pd.DataFrame({'cate':l1, 'num':l2})\n",
    "temp_re.sort_values('num', ascending=False, inplace=True)"
   ]
  },
  {
   "cell_type": "code",
   "execution_count": 8,
   "id": "b89c35de-5839-44c3-b8f6-b0933b787eaf",
   "metadata": {},
   "outputs": [],
   "source": [
    "temp_re1=temp_re[temp_re['num']>1000000]  #60 categories\n",
    "features=list(temp_re1['cate'])\n",
    "df1=df1[df1['item_first_cate_name'].isin(features)]"
   ]
  },
  {
   "cell_type": "code",
   "execution_count": 14,
   "id": "2f184c56-7cde-4127-b45e-1145a9523bb7",
   "metadata": {},
   "outputs": [],
   "source": [
    "zhixia=['北京', '重庆', '上海', '天津']"
   ]
  },
  {
   "cell_type": "code",
   "execution_count": 15,
   "id": "d2762921-3afe-4c9f-af06-4f5952bb713b",
   "metadata": {},
   "outputs": [],
   "source": [
    "df1_temp1=df1[~df1['rev_addr_province_id'].isin(zhixia)].copy()\n",
    "df1_temp2=df1[df1['rev_addr_province_id'].isin(zhixia)].copy()\n",
    "df1_temp2.rev_addr_city_id=df1_temp2.rev_addr_province_id\n",
    "df1_temp2 = df1_temp2.groupby(['sale_ord_dt','rev_addr_province_id','rev_addr_city_id','item_first_cate_name','year','month','season'],as_index=False).sum()\n",
    "df1_temp1 = df1_temp1.groupby(['sale_ord_dt','rev_addr_province_id','rev_addr_city_id','item_first_cate_name','year','month','season'],as_index=False).sum()"
   ]
  },
  {
   "cell_type": "code",
   "execution_count": 16,
   "id": "89c6ff36-5bfe-4816-a336-197a3d978526",
   "metadata": {},
   "outputs": [],
   "source": [
    "df1=pd.concat([df1_temp1,df1_temp2])\n",
    "df1=df1.reset_index(drop=True)"
   ]
  },
  {
   "cell_type": "code",
   "execution_count": 18,
   "id": "06e8f7d8-60b4-4da8-941f-78d2fd41ca4e",
   "metadata": {},
   "outputs": [],
   "source": [
    "df1['rev_addr_city_id'] = df1['rev_addr_city_id'].str.replace('北京', '北京市')\n",
    "df1['rev_addr_city_id'] = df1['rev_addr_city_id'].str.replace('重庆', '重庆市')\n",
    "df1['rev_addr_city_id'] = df1['rev_addr_city_id'].str.replace('上海', '上海市')\n",
    "df1['rev_addr_city_id'] = df1['rev_addr_city_id'].str.replace('天津', '天津市')"
   ]
  },
  {
   "cell_type": "code",
   "execution_count": 20,
   "id": "c446727a-a261-4522-a3df-82265a940f0f",
   "metadata": {},
   "outputs": [],
   "source": [
    "df2=df1.groupby(['rev_addr_city_id','item_first_cate_name','year'],as_index=False)['nums'].sum()"
   ]
  },
  {
   "cell_type": "code",
   "execution_count": 23,
   "id": "3025be85-fe30-4284-b58b-e37e2a29a2c2",
   "metadata": {},
   "outputs": [],
   "source": [
    "l_filter=['东丽区','东城区','丰台区','北碚区','和平区','嘉定区','大兴区','宁河区','宝山区', '崇明区','延庆区','徐汇区',\n",
    "         '普陀区', '朝阳区', '杨浦区', '松江区','梁平区', '汉沽区', '津南区','浦东新区','渝北区','滨海新区','石景山区',\n",
    "         '红桥区','虹口区','西青区','金山区', '长宁区', '闵行区','青浦区','静安区','黄浦区', '丰都县', '城口县','巫山县','石柱县']"
   ]
  },
  {
   "cell_type": "code",
   "execution_count": 24,
   "id": "e68e31f8-9020-4d08-a1a6-05f8f1059e65",
   "metadata": {},
   "outputs": [],
   "source": [
    "df2=df2[~df2['rev_addr_city_id'].isin(l_filter)]"
   ]
  },
  {
   "cell_type": "code",
   "execution_count": 25,
   "id": "ad568c9b-65e4-47e3-b15c-bd2384c5d665",
   "metadata": {},
   "outputs": [],
   "source": [
    "l_city=df2.rev_addr_city_id.unique()  #359个城市"
   ]
  },
  {
   "cell_type": "code",
   "execution_count": 28,
   "id": "fc007c38-c386-4859-9c38-cc63dfd36aee",
   "metadata": {},
   "outputs": [],
   "source": [
    "df2.to_csv('filter_data.csv', index=False)"
   ]
  },
  {
   "cell_type": "code",
   "execution_count": 29,
   "id": "4a318d74-303c-4cc4-b128-efa33ae6c5cf",
   "metadata": {},
   "outputs": [],
   "source": [
    "data_all = pd.read_csv('filter_data.csv')\n",
    "\n",
    "data_all = data_all[data_all['year'] != 2023]\n",
    "data_all = data_all[data_all['year'] != 2020]\n",
    "\n",
    "data_all['item_first_cate_name'] = data_all['item_first_cate_name'].replace(['纸品家清'], '家庭清洁/纸品')\n",
    "data_all['item_first_cate_name'] = data_all['item_first_cate_name'].replace(['鞋靴','鞋包服饰/百货'], '服饰内衣')\n",
    "data_all['item_first_cate_name'] = data_all['item_first_cate_name'].replace(['医药保健','营养保健','传统滋补'], '医疗保健')\n",
    "data_all['item_first_cate_name'] = data_all['item_first_cate_name'].replace(['摩托车/电动车'], '汽车用品')\n",
    "data_all['item_first_cate_name'] = data_all['item_first_cate_name'].replace(['宠物健康'], '宠物生活')\n",
    "data_all['item_first_cate_name'] = data_all['item_first_cate_name'].replace(['鲜花/奢侈品'], '珠宝首饰')\n",
    "data_all['item_first_cate_name'] = data_all['item_first_cate_name'].replace(['钟表'], '钟表眼镜')\n",
    "data_all['item_first_cate_name'] = data_all['item_first_cate_name'].replace(['手机数码'], '数码')\n",
    "data_all['item_first_cate_name'] = data_all['item_first_cate_name'].replace(['个护美妆','美妆护肤'],'个人护理')\n",
    "\n",
    "data_all = data_all.reset_index(drop=True)\n",
    "data_all.to_csv('filter_data_2.csv', index=False)"
   ]
  },
  {
   "cell_type": "code",
   "execution_count": null,
   "id": "c59ea2e4-7e4e-405b-894a-442c419777e7",
   "metadata": {},
   "outputs": [],
   "source": []
  }
 ],
 "metadata": {
  "kernelspec": {
   "display_name": "Python3 (PySpark)",
   "language": "python",
   "name": "python3"
  },
  "language_info": {
   "codemirror_mode": {
    "name": "ipython",
    "version": 3
   },
   "file_extension": ".py",
   "mimetype": "text/x-python",
   "name": "python",
   "nbconvert_exporter": "python",
   "pygments_lexer": "ipython3",
   "version": "3.9.18"
  }
 },
 "nbformat": 4,
 "nbformat_minor": 5
}
